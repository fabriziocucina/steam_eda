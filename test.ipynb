{
 "cells": [
  {
   "cell_type": "code",
   "execution_count": 1,
   "metadata": {},
   "outputs": [],
   "source": [
    "import time\n",
    "import sys\n",
    "import logging\n",
    "logging.basicConfig(level=logging.INFO)\n",
    "# Importing third-party libraries\n",
    "import numpy as np\n",
    "import pandas as pd\n",
    "import requests\n",
    "from bs4 import BeautifulSoup\n",
    "from tqdm import tqdm\n",
    "\n",
    "# Import internal libraries\n",
    "from etl import scraping\n",
    "from configuration import configuration\n",
    "from etl import transform\n"
   ]
  },
  {
   "cell_type": "code",
   "execution_count": null,
   "metadata": {},
   "outputs": [],
   "source": [
    "def main():\n",
    "    # Configuration variables\n",
    "    logging.info(\"Starting the scraper...\")\n",
    "    conf = configuration()\n",
    "    main_url = scraping.get_soup(conf[\"sites\"][\"steam_spy_year\"]+str(conf[\"year\"]))\n",
    "    links = scraping.get_games_links(main_url,conf[\"sites\"][\"steam_spy_main\"])\n",
    "    test_link = links[1:5]\n",
    "    game_info = scraping.get_game_info(test_link)\n",
    "    #scraping.get_excel(game_info,conf[\"year\"])\n",
    "\n",
    "\n",
    "if __name__ == \"__main__\":\n",
    "    main()"
   ]
  },
  {
   "cell_type": "code",
   "execution_count": 2,
   "metadata": {},
   "outputs": [
    {
     "name": "stderr",
     "output_type": "stream",
     "text": [
      "INFO:root:Starting the scraper...\n",
      "INFO:root:Links Extracted...\n",
      "INFO:root:Extracting data from games...\n",
      "100%|██████████| 4/4 [00:03<00:00,  1.31it/s]\n",
      "INFO:root:Data extracted finalized...\n",
      "INFO:root:Creating the Dataframe...\n",
      "INFO:root:Normalizing column names...\n"
     ]
    }
   ],
   "source": [
    "logging.info(\"Starting the scraper...\")\n",
    "conf = configuration()\n",
    "main_url = scraping.get_soup(conf[\"sites\"][\"steam_spy_year\"]+str(conf[\"year\"]))\n",
    "links = scraping.get_games_links(main_url,conf[\"sites\"][\"steam_spy_main\"])\n",
    "test_link = links[1:5]\n",
    "game_info = scraping.get_game_info(test_link)\n",
    "data = scraping.get_df(game_info)\n",
    "df = transform.clean_column_names(data)\n"
   ]
  },
  {
   "cell_type": "code",
   "execution_count": 17,
   "metadata": {},
   "outputs": [
    {
     "name": "stderr",
     "output_type": "stream",
     "text": [
      "INFO:root:Normalizing column names...\n"
     ]
    }
   ],
   "source": [
    "\n"
   ]
  },
  {
   "cell_type": "code",
   "execution_count": 19,
   "metadata": {},
   "outputs": [],
   "source": [
    "def clean_column_names(df):\n",
    "    logging.info(\"Normalizing column names...\")\n",
    "    new_columns = []\n",
    "    changes = [\"\\[\", \"\\]\", \"\\'\", \"%\", \"\\$\", \"/app/\",\",\",\"-\",\".\"]\n",
    "    for column in df.columns: \n",
    "        for change in changes:\n",
    "                new_column = column.replace(change,\"\").replace(\" \",\"_\")\n",
    "        new_columns.append(new_column.capitalize())\n",
    "    df.columns = new_columns\n",
    "    return df"
   ]
  },
  {
   "cell_type": "code",
   "execution_count": 18,
   "metadata": {},
   "outputs": [
    {
     "data": {
      "text/html": [
       "<div>\n",
       "<style scoped>\n",
       "    .dataframe tbody tr th:only-of-type {\n",
       "        vertical-align: middle;\n",
       "    }\n",
       "\n",
       "    .dataframe tbody tr th {\n",
       "        vertical-align: top;\n",
       "    }\n",
       "\n",
       "    .dataframe thead th {\n",
       "        text-align: right;\n",
       "    }\n",
       "</style>\n",
       "<table border=\"1\" class=\"dataframe\">\n",
       "  <thead>\n",
       "    <tr style=\"text-align: right;\">\n",
       "      <th></th>\n",
       "      <th>Title</th>\n",
       "      <th>Developer</th>\n",
       "      <th>Genre</th>\n",
       "      <th>Language</th>\n",
       "      <th>Tag</th>\n",
       "      <th>Publisher</th>\n",
       "      <th>Category</th>\n",
       "      <th>Release_date</th>\n",
       "      <th>Price</th>\n",
       "      <th>Old_userscore</th>\n",
       "      <th>Metascore</th>\n",
       "      <th>Owners</th>\n",
       "      <th>Followers</th>\n",
       "    </tr>\n",
       "  </thead>\n",
       "  <tbody>\n",
       "    <tr>\n",
       "      <th>0</th>\n",
       "      <td>Return of the Obra Dinn</td>\n",
       "      <td>Lucas Pope</td>\n",
       "      <td>Adventure,Indie</td>\n",
       "      <td>English,French,Italian,German,Spanish - Spain,...</td>\n",
       "      <td>Detective,Mystery,Puzzle,Story Rich,Atmospheri...</td>\n",
       "      <td>3909</td>\n",
       "      <td>Single-player, Steam Achievements, Full contr...</td>\n",
       "      <td>Oct 18, 2018</td>\n",
       "      <td>$19.99</td>\n",
       "      <td>96%</td>\n",
       "      <td>89%</td>\n",
       "      <td>500,000 - 1,000,000</td>\n",
       "      <td>65,768</td>\n",
       "    </tr>\n",
       "    <tr>\n",
       "      <th>1</th>\n",
       "      <td>Dead Cells</td>\n",
       "      <td>Motion Twin</td>\n",
       "      <td>Action,Indie,in Early Access</td>\n",
       "      <td>English,French,Simplified Chinese,Italian,Germ...</td>\n",
       "      <td>Rogue-lite,Pixel Graphics,Rogue-like,Difficult...</td>\n",
       "      <td>Motion Twin</td>\n",
       "      <td>Single-player, Steam Achievements, Full contr...</td>\n",
       "      <td>Aug 6, 2018</td>\n",
       "      <td>$24.99</td>\n",
       "      <td>96%</td>\n",
       "      <td>89%</td>\n",
       "      <td>2,000,000 - 5,000,000</td>\n",
       "      <td>325,623</td>\n",
       "    </tr>\n",
       "    <tr>\n",
       "      <th>2</th>\n",
       "      <td>Pillars of Eternity II: Deadfire</td>\n",
       "      <td>Obsidian Entertainment</td>\n",
       "      <td>RPG</td>\n",
       "      <td>English,French,Italian,German,Spanish - Spain,...</td>\n",
       "      <td>RPG,Party-Based RPG,Story Rich,Isometric,CRPG,...</td>\n",
       "      <td>Versus Evil</td>\n",
       "      <td>Single-player, Steam Achievements, Steam Trad...</td>\n",
       "      <td>May 8, 2018</td>\n",
       "      <td>$39.99</td>\n",
       "      <td>87%</td>\n",
       "      <td>88%</td>\n",
       "      <td>500,000 - 1,000,000</td>\n",
       "      <td>121,059</td>\n",
       "    </tr>\n",
       "    <tr>\n",
       "      <th>3</th>\n",
       "      <td>DUSK</td>\n",
       "      <td>David Szymanski</td>\n",
       "      <td>Action,Indie,in Early Access</td>\n",
       "      <td>English,Simplified Chinese,French,Italian,Germ...</td>\n",
       "      <td>FPS,Retro,Shooter,Fast-Paced,Horror,Old School...</td>\n",
       "      <td>New Blood Interactive</td>\n",
       "      <td>Single-player, Multi-player, PvP, Online PvP,...</td>\n",
       "      <td>Dec 10, 2018</td>\n",
       "      <td>$19.99</td>\n",
       "      <td>97%</td>\n",
       "      <td>88%</td>\n",
       "      <td>1,000,000 - 2,000,000</td>\n",
       "      <td>39,066</td>\n",
       "    </tr>\n",
       "  </tbody>\n",
       "</table>\n",
       "</div>"
      ],
      "text/plain": [
       "                              Title               Developer  \\\n",
       "0           Return of the Obra Dinn              Lucas Pope   \n",
       "1                        Dead Cells             Motion Twin   \n",
       "2  Pillars of Eternity II: Deadfire  Obsidian Entertainment   \n",
       "3                              DUSK         David Szymanski   \n",
       "\n",
       "                          Genre  \\\n",
       "0               Adventure,Indie   \n",
       "1  Action,Indie,in Early Access   \n",
       "2                           RPG   \n",
       "3  Action,Indie,in Early Access   \n",
       "\n",
       "                                            Language  \\\n",
       "0  English,French,Italian,German,Spanish - Spain,...   \n",
       "1  English,French,Simplified Chinese,Italian,Germ...   \n",
       "2  English,French,Italian,German,Spanish - Spain,...   \n",
       "3  English,Simplified Chinese,French,Italian,Germ...   \n",
       "\n",
       "                                                 Tag              Publisher  \\\n",
       "0  Detective,Mystery,Puzzle,Story Rich,Atmospheri...                   3909   \n",
       "1  Rogue-lite,Pixel Graphics,Rogue-like,Difficult...            Motion Twin   \n",
       "2  RPG,Party-Based RPG,Story Rich,Isometric,CRPG,...            Versus Evil   \n",
       "3  FPS,Retro,Shooter,Fast-Paced,Horror,Old School...  New Blood Interactive   \n",
       "\n",
       "                                            Category  Release_date   Price  \\\n",
       "0   Single-player, Steam Achievements, Full contr...  Oct 18, 2018  $19.99   \n",
       "1   Single-player, Steam Achievements, Full contr...   Aug 6, 2018  $24.99   \n",
       "2   Single-player, Steam Achievements, Steam Trad...   May 8, 2018  $39.99   \n",
       "3   Single-player, Multi-player, PvP, Online PvP,...  Dec 10, 2018  $19.99   \n",
       "\n",
       "  Old_userscore Metascore                 Owners Followers  \n",
       "0           96%       89%    500,000 - 1,000,000    65,768  \n",
       "1           96%       89%  2,000,000 - 5,000,000   325,623  \n",
       "2           87%       88%    500,000 - 1,000,000   121,059  \n",
       "3           97%       88%  1,000,000 - 2,000,000    39,066  "
      ]
     },
     "execution_count": 18,
     "metadata": {},
     "output_type": "execute_result"
    }
   ],
   "source": [
    "data"
   ]
  },
  {
   "cell_type": "code",
   "execution_count": 14,
   "metadata": {},
   "outputs": [
    {
     "data": {
      "text/plain": [
       "['Followers',\n",
       " 'Followers',\n",
       " 'Followers',\n",
       " 'Followers',\n",
       " 'Followers',\n",
       " 'Followers',\n",
       " 'Followers',\n",
       " 'Followers',\n",
       " 'Followers']"
      ]
     },
     "execution_count": 14,
     "metadata": {},
     "output_type": "execute_result"
    }
   ],
   "source": [
    "new_columns"
   ]
  }
 ],
 "metadata": {
  "kernelspec": {
   "display_name": "Python 3.9.2 64-bit",
   "language": "python",
   "name": "python3"
  },
  "language_info": {
   "codemirror_mode": {
    "name": "ipython",
    "version": 3
   },
   "file_extension": ".py",
   "mimetype": "text/x-python",
   "name": "python",
   "nbconvert_exporter": "python",
   "pygments_lexer": "ipython3",
   "version": "3.9.2"
  },
  "orig_nbformat": 4,
  "vscode": {
   "interpreter": {
    "hash": "469241b12331ad6d43d5ebfeed273d6a436be7d60dc5a921127bd16693951b02"
   }
  }
 },
 "nbformat": 4,
 "nbformat_minor": 2
}
